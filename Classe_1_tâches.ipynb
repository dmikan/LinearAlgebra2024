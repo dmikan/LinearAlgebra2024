{
 "cells": [
  {
   "cell_type": "code",
   "execution_count": 20,
   "metadata": {},
   "outputs": [],
   "source": [
    "import numpy as np\n",
    "import numpy.linalg as linalg\n",
    "import math"
   ]
  },
  {
   "cell_type": "code",
   "execution_count": 5,
   "metadata": {},
   "outputs": [
    {
     "name": "stdout",
     "output_type": "stream",
     "text": [
      "x = [1.],\n",
      " y = [-1.],\n",
      " z = [2.]\n"
     ]
    }
   ],
   "source": [
    "# 1. Matriz A, sistema con una unica solución\n",
    "A = np.array([[ 2, 3, 1],\n",
    "              [ 3, -2,-4],\n",
    "              [5, -1, -1]])\n",
    "\n",
    "# Vector b\n",
    "b = np.array([[1],\n",
    "              [-3],\n",
    "              [4]])\n",
    "\n",
    "# Resolver el sistema de ecuaciones lineales\n",
    "x,y,z = linalg.solve(A, b)\n",
    "print(f\"x = {x},\\n y = {y},\\n z = {z}\")"
   ]
  },
  {
   "cell_type": "code",
   "execution_count": 6,
   "metadata": {},
   "outputs": [
    {
     "name": "stdout",
     "output_type": "stream",
     "text": [
      "True\n",
      "True\n",
      "True\n"
     ]
    }
   ],
   "source": [
    "# comprobación \n",
    "print(math.isclose(2*x +3*y +1*z, 1))\n",
    "print(math.isclose(3*x -2*y -4*z, -3))\n",
    "print(math.isclose(5*x -1*y -1*z, 4))"
   ]
  },
  {
   "cell_type": "code",
   "execution_count": 9,
   "metadata": {},
   "outputs": [
    {
     "name": "stdout",
     "output_type": "stream",
     "text": [
      "x = [1.21428571],\n",
      " y = [-0.07142857],\n",
      " z = [0.5]\n"
     ]
    }
   ],
   "source": [
    "# 2. Matriz A, sistema con una unica solución\n",
    "A = np.array([[ 2, -1, 3],\n",
    "              [ 3, +2,-1],\n",
    "              [1, +3, -4]])\n",
    "\n",
    "# Vector b\n",
    "b = np.array([[4],\n",
    "              [3],\n",
    "              [-1]])\n",
    "\n",
    "# Resolver el sistema de ecuaciones lineales\n",
    "solucion = linalg.solve(A, b)\n",
    "print(f\"x = {solucion[0]},\\n y = {solucion[1]},\\n z = {solucion[2]}\")"
   ]
  },
  {
   "cell_type": "code",
   "execution_count": 13,
   "metadata": {},
   "outputs": [
    {
     "name": "stdout",
     "output_type": "stream",
     "text": [
      "True\n",
      "True\n",
      "True\n"
     ]
    }
   ],
   "source": [
    "# comprobación \n",
    "print(math.isclose(2*solucion[0] -1*solucion[1] +3*solucion[2], 4))\n",
    "print(math.isclose(3*solucion[0] +2*solucion[1] -1*solucion[2], 3))\n",
    "print(math.isclose(1*solucion[0] +3*solucion[1] -4*solucion[2], -1))"
   ]
  },
  {
   "cell_type": "code",
   "execution_count": 15,
   "metadata": {},
   "outputs": [
    {
     "name": "stdout",
     "output_type": "stream",
     "text": [
      "x = [0.],\n",
      " y = [-0.],\n",
      " z = [0.]\n"
     ]
    }
   ],
   "source": [
    "# 3. Matriz A, sistema sin solución\n",
    "A = np.array([[ 2, -3, 1],\n",
    "              [ 1, +1,-1],\n",
    "              [4, -2, -3]])\n",
    "\n",
    "# Vector b\n",
    "b = np.array([[0],\n",
    "              [0],\n",
    "              [0]])\n",
    "\n",
    "# Resolver el sistema de ecuaciones lineales\n",
    "x,y,z = linalg.solve(A, b)\n",
    "print(f\"x = {x},\\n y = {y},\\n z = {z}\")"
   ]
  },
  {
   "cell_type": "code",
   "execution_count": 16,
   "metadata": {},
   "outputs": [
    {
     "name": "stdout",
     "output_type": "stream",
     "text": [
      "True\n",
      "True\n",
      "True\n"
     ]
    }
   ],
   "source": [
    "# comprobación \n",
    "print(math.isclose(2*x -3*y +1*z, 0))\n",
    "print(math.isclose(1*x +1*y -1*z, 0))\n",
    "print(math.isclose(4*x -2*y -3*z, 0))"
   ]
  },
  {
   "cell_type": "code",
   "execution_count": null,
   "metadata": {},
   "outputs": [],
   "source": [
    "# 4. Matriz A, es una matriz singular, que puede tener infinitas soluciones.\n",
    "# \n",
    "A = np.array([[ +1, +8, -5],\n",
    "              [ +3, -2, +3],\n",
    "              [+2, +3, -1]])\n",
    "\n",
    "# Vector b\n",
    "b = np.array([[3],\n",
    "              [1],\n",
    "              [4]])\n",
    "\n",
    "# Resolver el sistema de ecuaciones lineales\n",
    "x,y,z = linalg.solve(A, b)\n",
    "print(f\"x = {x},\\n y = {y},\\n z = {z}\")"
   ]
  },
  {
   "cell_type": "code",
   "execution_count": 22,
   "metadata": {},
   "outputs": [
    {
     "name": "stdout",
     "output_type": "stream",
     "text": [
      "x = [-1.],\n",
      " y = [2.],\n",
      " z = [1.83428152e-16]\n"
     ]
    }
   ],
   "source": [
    "# 5. Matriz A, tiene una solución.\n",
    "A = np.array([[ +3, +2, +4],\n",
    "              [ +5, -1, -3],\n",
    "              [+4, +3, -1]])\n",
    "\n",
    "# Vector b\n",
    "b = np.array([[1],\n",
    "              [-7],\n",
    "              [2]])\n",
    "\n",
    "# Resolver el sistema de ecuaciones lineales\n",
    "x,y,z = linalg.solve(A, b)\n",
    "print(f\"x = {x},\\n y = {y},\\n z = {z}\")"
   ]
  },
  {
   "cell_type": "code",
   "execution_count": 24,
   "metadata": {},
   "outputs": [
    {
     "name": "stdout",
     "output_type": "stream",
     "text": [
      "True\n",
      "True\n",
      "True\n"
     ]
    }
   ],
   "source": [
    "# comprobación \n",
    "print(math.isclose(3*x +2*y +4*z, 1))\n",
    "print(math.isclose(5*x -1*y -3*z, -7))\n",
    "print(math.isclose(4*x +3*y -1*z, 2))"
   ]
  },
  {
   "cell_type": "code",
   "execution_count": 30,
   "metadata": {},
   "outputs": [
    {
     "ename": "LinAlgError",
     "evalue": "Last 2 dimensions of the array must be square",
     "output_type": "error",
     "traceback": [
      "\u001b[1;31m---------------------------------------------------------------------------\u001b[0m",
      "\u001b[1;31mLinAlgError\u001b[0m                               Traceback (most recent call last)",
      "Input \u001b[1;32mIn [30]\u001b[0m, in \u001b[0;36m<cell line: 10>\u001b[1;34m()\u001b[0m\n\u001b[0;32m      2\u001b[0m A \u001b[38;5;241m=\u001b[39m np\u001b[38;5;241m.\u001b[39marray([[\u001b[38;5;241m+\u001b[39m\u001b[38;5;241m5\u001b[39m, \u001b[38;5;241m-\u001b[39m\u001b[38;5;241m2\u001b[39m, \u001b[38;5;241m+\u001b[39m\u001b[38;5;241m1\u001b[39m, \u001b[38;5;241m-\u001b[39m\u001b[38;5;241m2\u001b[39m],\n\u001b[0;32m      3\u001b[0m               [\u001b[38;5;241m-\u001b[39m\u001b[38;5;241m3\u001b[39m, \u001b[38;5;241m+\u001b[39m\u001b[38;5;241m4\u001b[39m, \u001b[38;5;241m+\u001b[39m\u001b[38;5;241m5\u001b[39m, \u001b[38;5;241m-\u001b[39m\u001b[38;5;241m1\u001b[39m],\n\u001b[0;32m      4\u001b[0m               [\u001b[38;5;241m2\u001b[39m, \u001b[38;5;241m+\u001b[39m\u001b[38;5;241m2\u001b[39m, \u001b[38;5;241m+\u001b[39m\u001b[38;5;241m6\u001b[39m, \u001b[38;5;241m-\u001b[39m\u001b[38;5;241m3\u001b[39m]])\n\u001b[0;32m      6\u001b[0m b \u001b[38;5;241m=\u001b[39m np\u001b[38;5;241m.\u001b[39marray([[\u001b[38;5;241m1\u001b[39m],\n\u001b[0;32m      7\u001b[0m               [\u001b[38;5;241m2\u001b[39m],\n\u001b[0;32m      8\u001b[0m               [\u001b[38;5;241m3\u001b[39m]])\n\u001b[1;32m---> 10\u001b[0m x, y, z, w \u001b[38;5;241m=\u001b[39m \u001b[43mlinalg\u001b[49m\u001b[38;5;241;43m.\u001b[39;49m\u001b[43msolve\u001b[49m\u001b[43m(\u001b[49m\u001b[43mA\u001b[49m\u001b[43m,\u001b[49m\u001b[43m \u001b[49m\u001b[43mb\u001b[49m\u001b[43m)\u001b[49m\n\u001b[0;32m     11\u001b[0m \u001b[38;5;28mprint\u001b[39m (\u001b[38;5;124mf\u001b[39m\u001b[38;5;124m'\u001b[39m\u001b[38;5;124mx=\u001b[39m\u001b[38;5;132;01m{\u001b[39;00mx\u001b[38;5;132;01m}\u001b[39;00m\u001b[38;5;124m, \u001b[39m\u001b[38;5;130;01m\\n\u001b[39;00m\u001b[38;5;124m y=\u001b[39m\u001b[38;5;132;01m{\u001b[39;00my\u001b[38;5;132;01m}\u001b[39;00m\u001b[38;5;124m, \u001b[39m\u001b[38;5;130;01m\\n\u001b[39;00m\u001b[38;5;124m z=\u001b[39m\u001b[38;5;132;01m{\u001b[39;00mz\u001b[38;5;132;01m}\u001b[39;00m\u001b[38;5;124m, \u001b[39m\u001b[38;5;130;01m\\n\u001b[39;00m\u001b[38;5;124m w=\u001b[39m\u001b[38;5;132;01m{\u001b[39;00mw\u001b[38;5;132;01m}\u001b[39;00m\u001b[38;5;124m'\u001b[39m)\n",
      "File \u001b[1;32m<__array_function__ internals>:180\u001b[0m, in \u001b[0;36msolve\u001b[1;34m(*args, **kwargs)\u001b[0m\n",
      "File \u001b[1;32mc:\\Users\\Andres\\Python\\Python310\\lib\\site-packages\\numpy\\linalg\\linalg.py:387\u001b[0m, in \u001b[0;36msolve\u001b[1;34m(a, b)\u001b[0m\n\u001b[0;32m    385\u001b[0m a, _ \u001b[38;5;241m=\u001b[39m _makearray(a)\n\u001b[0;32m    386\u001b[0m _assert_stacked_2d(a)\n\u001b[1;32m--> 387\u001b[0m \u001b[43m_assert_stacked_square\u001b[49m\u001b[43m(\u001b[49m\u001b[43ma\u001b[49m\u001b[43m)\u001b[49m\n\u001b[0;32m    388\u001b[0m b, wrap \u001b[38;5;241m=\u001b[39m _makearray(b)\n\u001b[0;32m    389\u001b[0m t, result_t \u001b[38;5;241m=\u001b[39m _commonType(a, b)\n",
      "File \u001b[1;32mc:\\Users\\Andres\\Python\\Python310\\lib\\site-packages\\numpy\\linalg\\linalg.py:204\u001b[0m, in \u001b[0;36m_assert_stacked_square\u001b[1;34m(*arrays)\u001b[0m\n\u001b[0;32m    202\u001b[0m m, n \u001b[38;5;241m=\u001b[39m a\u001b[38;5;241m.\u001b[39mshape[\u001b[38;5;241m-\u001b[39m\u001b[38;5;241m2\u001b[39m:]\n\u001b[0;32m    203\u001b[0m \u001b[38;5;28;01mif\u001b[39;00m m \u001b[38;5;241m!=\u001b[39m n:\n\u001b[1;32m--> 204\u001b[0m     \u001b[38;5;28;01mraise\u001b[39;00m LinAlgError(\u001b[38;5;124m'\u001b[39m\u001b[38;5;124mLast 2 dimensions of the array must be square\u001b[39m\u001b[38;5;124m'\u001b[39m)\n",
      "\u001b[1;31mLinAlgError\u001b[0m: Last 2 dimensions of the array must be square"
     ]
    }
   ],
   "source": [
    "# 6. Matriz A, no tiene solución. \n",
    "# la matriz de coeficientes debe ser cuadrada para que tenga una inversa, y la matria es de 3x4\n",
    "A = np.array([[+5, -2, +1, -2],\n",
    "              [-3, +4, +5, -1],\n",
    "              [2, +2, +6, -3]])\n",
    "\n",
    "b = np.array([[1],\n",
    "              [2],\n",
    "              [3]])\n",
    "\n",
    "x, y, z, w = linalg.solve(A, b)\n",
    "print (f'x={x}, \\n y={y}, \\n z={z}, \\n w={w}')"
   ]
  }
 ],
 "metadata": {
  "kernelspec": {
   "display_name": "Python 3",
   "language": "python",
   "name": "python3"
  },
  "language_info": {
   "codemirror_mode": {
    "name": "ipython",
    "version": 3
   },
   "file_extension": ".py",
   "mimetype": "text/x-python",
   "name": "python",
   "nbconvert_exporter": "python",
   "pygments_lexer": "ipython3",
   "version": "3.10.6"
  }
 },
 "nbformat": 4,
 "nbformat_minor": 2
}
